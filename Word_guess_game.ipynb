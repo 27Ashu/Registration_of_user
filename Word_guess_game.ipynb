{
  "nbformat": 4,
  "nbformat_minor": 0,
  "metadata": {
    "colab": {
      "name": "Word_guess_game.ipynb",
      "provenance": [],
      "collapsed_sections": [],
      "authorship_tag": "ABX9TyMlODRI0Dmo2wDdDyszRXf1",
      "include_colab_link": true
    },
    "kernelspec": {
      "name": "python3",
      "display_name": "Python 3"
    },
    "language_info": {
      "name": "python"
    }
  },
  "cells": [
    {
      "cell_type": "markdown",
      "metadata": {
        "id": "view-in-github",
        "colab_type": "text"
      },
      "source": [
        "<a href=\"https://colab.research.google.com/github/27Ashu/Registration_of_user/blob/main/Word_guess_game.ipynb\" target=\"_parent\"><img src=\"https://colab.research.google.com/assets/colab-badge.svg\" alt=\"Open In Colab\"/></a>"
      ]
    },
    {
      "cell_type": "code",
      "metadata": {
        "id": "5Ospvcb-_mfk"
      },
      "source": [
        "# library that we use in order to choose \n",
        "# on random words from a list of words \n",
        "import random\n",
        "\n",
        "#user is asked to enter the name first\n",
        "player_name = input(\"What is ur Name?\")\n",
        "print(\"Dood Luck!\",player_name)\n",
        "\n",
        "#Create a list of words from which a random one need to be selected\n",
        "Words_list = ['rainbow', 'computer', 'science', 'programming', \n",
        "\t\t'python', 'mathematics', 'player', 'condition', \n",
        "\t\t'reverse', 'water', 'board', 'geeks',\"nature\"] \n",
        "\n",
        "# Function will choose one random \n",
        "# word from this list of words \n",
        "word = random.choice(Words_list)\n",
        "\n",
        "print(\"Guess the characters of the Word\")\n",
        "\n",
        "#initialize the variable with an empty string\n",
        "guesses = ''\n",
        "\n",
        "#Number of worng turns used by the user\n",
        "turns = 12\n",
        "\n",
        "while turns > 0:\n",
        "  #count the numner of times the user fails\n",
        "  failed = 0\n",
        "\n",
        "  # all characters from the input \n",
        "\t# word taking one at a time. \n",
        "  for char in word:\n",
        "    # comparing that character with \n",
        "\t\t# the character in guesses \n",
        "    if char in guesses:\n",
        "      print(char) \n",
        "    else:\n",
        "      print(\"_\") \n",
        "      # for every failure 1 will be \n",
        "\t\t\t# incremented in failure\n",
        "      failed += 1\n",
        "\n",
        "  if failed == 0: \n",
        "\t\t# user will win the game if failure is 0 \n",
        "\t\t# and 'You Win' will be given as output\n",
        "    print(\"You Win\") \n",
        "\t\t\n",
        "\t\t# this print the correct word\n",
        "    print(\"The word is: \", word)\n",
        "    break\n",
        "\n",
        "  # if user has input the wrong alphabet then \n",
        "\t# it will ask user to enter another alphabet\n",
        "  guess = input(\"guess a character:\") \n",
        "\t\n",
        "  # every input character will be stored in guesses\n",
        "  guesses += guess \n",
        "  \n",
        "  # check input with the character in word\n",
        "  if guess not in word:\n",
        "    turns -= 1\n",
        "    # if the character doesn’t match the word\n",
        "    # then “Wrong” will be given as output\n",
        "    print(\"Wrong\") \n",
        "\t\t\n",
        "\t\t# this will print the number of \n",
        "\t\t# turns left for the user\n",
        "    print(\"You have\", + turns, 'more guesses')\n",
        "    \n",
        "    if turns == 0:\n",
        "      print(\"You Loose\")\n",
        "      # this print the correct word\n",
        "      print(\"The word is: \", word) "
      ],
      "execution_count": null,
      "outputs": []
    },
    {
      "cell_type": "markdown",
      "metadata": {
        "id": "LGIh3dZpFw8V"
      },
      "source": [
        "In this article, we will use random module to make a word guessing game. This game is for beginners learning to code in python and to give them a little brief about using strings, loops and conditional(If, else) statements.\n",
        "\n",
        "random module :\n",
        "Sometimes we want the computer to pick a random number in a given range, pick a random element from a list, pick a random card from a deck, flip a coin, etc. The random module provides access to functions that support these types of operations. One such operation is random.choice() method (returns a random item from a list, tuple, or string.) that we are going to use in order to select one random word from a list of words that we’ve created.\n",
        "\n",
        "In this game, there is a list of words present, out of which our interpreter will choose 1 random word. The user first has to input their names and then, will be asked to guess any alphabet. If the random word contains that alphabet, it will be shown as the output(with correct placement) else the program will ask you to guess another alphabet. User will be given 12 turns(can be changed accordingly) to guess the complete word."
      ]
    }
  ]
}